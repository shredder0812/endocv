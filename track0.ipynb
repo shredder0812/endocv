{
  "cells": [
    {
      "cell_type": "markdown",
      "metadata": {
        "id": "view-in-github",
        "colab_type": "text"
      },
      "source": [
        "<a href=\"https://colab.research.google.com/github/shredder0812/endocv/blob/main/track0.ipynb\" target=\"_parent\"><img src=\"https://colab.research.google.com/assets/colab-badge.svg\" alt=\"Open In Colab\"/></a>"
      ]
    },
    {
      "cell_type": "markdown",
      "metadata": {
        "id": "gQlmeNmhJSen"
      },
      "source": [
        "# Load video and model\n",
        "## Video:\n",
        "- UTDD: BVK042.mp4\n",
        "\n",
        "- UTTQ: CS201.mp4\n",
        "\n",
        "- test_6s\n",
        "\n",
        "- test_3s\n",
        "\n",
        "## Model\n",
        "- thucquan.pt: ['2_Viem_thuc_quan', '5_Ung_thu_thuc_quan']\n",
        "\n",
        "- daday.pt: ['3_Viem_da_day_HP_am', '4_Viem_da_day_HP_duong', '6_Ung_thu_da_day']\n",
        "\n",
        "- htt.pt: ['7_Loet_HTT']\n",
        "\n",
        "- best0903.pt, best2602.pt: ['polyp', 'esophagael cancer']\n"
      ]
    },
    {
      "cell_type": "code",
      "execution_count": null,
      "metadata": {
        "colab": {
          "base_uri": "https://localhost:8080/"
        },
        "id": "1fzEdHVJjuB7",
        "outputId": "312b328f-15a1-4542-a41d-424bc7ffa8d3"
      },
      "outputs": [
        {
          "name": "stdout",
          "output_type": "stream",
          "text": [
            "Mounted at /content/drive\n"
          ]
        }
      ],
      "source": [
        "from google.colab import drive\n",
        "drive.mount('/content/drive')"
      ]
    },
    {
      "cell_type": "code",
      "execution_count": 17,
      "metadata": {
        "id": "zRl8pp-ZFszY"
      },
      "outputs": [],
      "source": [
        "!cp /content/drive/MyDrive/ENDOCV/video_test/UTDD/BVK042.mp4 /content/drive/MyDrive/ENDOCV/video_test/UTTQ/CS201.mp4 /content/drive/MyDrive/ENDOCV/video_test/UTTQ/BVK037.mp4 /content"
      ]
    },
    {
      "cell_type": "code",
      "execution_count": 18,
      "metadata": {
        "id": "aUKQpwL7uvQs"
      },
      "outputs": [],
      "source": [
        "!cp /content/drive/MyDrive/ENDOCV/model_pt/model_yolo/thucquan.pt /content/drive/MyDrive/ENDOCV/model_pt/model_yolo/daday.pt /content"
      ]
    },
    {
      "cell_type": "code",
      "execution_count": null,
      "metadata": {
        "id": "Cw3TF89Qp50i"
      },
      "outputs": [],
      "source": [
        "!cp /content/drive/MyDrive/ENDOCV/model_pt/best0903.pt /content/drive/MyDrive/ENDOCV/model_pt/best2602.pt /content/drive/MyDrive/ENDOCV/video_test/test_3s.mp4 /content/drive/MyDrive/ENDOCV/video_test/test_6s.mp4 /content"
      ]
    },
    {
      "cell_type": "markdown",
      "metadata": {
        "id": "ynwB96csJ2tf"
      },
      "source": [
        "# Install requirements"
      ]
    },
    {
      "cell_type": "code",
      "execution_count": null,
      "metadata": {
        "id": "6cYF-NnqFtN6"
      },
      "outputs": [],
      "source": [
        "!pip install torchvision==0.17.1+cu121 -f https://download.pytorch.org/whl/torch_stable.html\n",
        "!pip install ultralytics\n",
        "!pip install boxmot"
      ]
    },
    {
      "cell_type": "code",
      "execution_count": null,
      "metadata": {
        "id": "Gs8VaTxydDCY"
      },
      "outputs": [],
      "source": [
        "!git clone https://github.com/mikel-brostrom/yolo_tracking.git\n",
        "!pip install -v -e ."
      ]
    },
    {
      "cell_type": "code",
      "execution_count": null,
      "metadata": {
        "id": "31eZ5Kzc7izi"
      },
      "outputs": [],
      "source": [
        "!git clone https://github.com/KeeganFernandesWork/yolo_tracking\n",
        "%cd yolo_tracking\n",
        "!pip install -r requirements.txt\n",
        "!pip install ."
      ]
    },
    {
      "cell_type": "markdown",
      "metadata": {
        "id": "cc58-XqGPcD7"
      },
      "source": [
        "# Track"
      ]
    },
    {
      "cell_type": "code",
      "execution_count": null,
      "metadata": {
        "id": "UVCYa1d82CNQ"
      },
      "outputs": [],
      "source": [
        "from ultralytics import YOLO\n",
        "from pathlib import Path\n",
        "from time import perf_counter\n",
        "import cv2\n",
        "import numpy as np\n",
        "import torch\n",
        "from boxmot import (OCSORT, BoTSORT, BYTETracker, DeepOCSORT, StrongSORT, create_tracker, get_tracker_config)\n",
        "from pathlib import Path\n",
        "import sys\n",
        "import datetime\n",
        "import pandas as pd\n",
        "from google.colab.patches import cv2_imshow"
      ]
    },
    {
      "cell_type": "code",
      "source": [
        "test_vid = \"/content/CS201.mp4\"\n",
        "model_weights = \"/content/best2602.pt\"\n",
        "\n",
        "# Lấy tên file video từ test_vid\n",
        "input_video_name = test_vid.split(\"/\")[-1].split(\".\")[0]\n",
        "\n",
        "# Lấy tên file video từ test_vid\n",
        "input_video_name = test_vid.split(\"/\")[-1].split(\".\")[0]\n",
        "\n",
        "# Tạo từ điển ánh xạ giữa tên model_weights và model_classes\n",
        "model_classes_dict = {\n",
        "    \"/content/thucquan.pt\": ['2_Viem_thuc_quan', '5_Ung_thu_thuc_quan'],\n",
        "    \"/content/daday.pt\": ['3_Viem_da_day_HP_am', '4_Viem_da_day_HP_duong', '6_Ung_thu_da_day'],\n",
        "    \"/content/htt.pt\": ['7_Loet_HTT']\n",
        "}\n",
        "\n",
        "# Thiết lập model_classes từ từ điển, nếu không khớp thì trả về ['polyp', 'esophagael cancer']\n",
        "model_classes = model_classes_dict.get(model_weights, ['polyp', 'esophagael cancer'])\n",
        "\n",
        "print(\"Input Video Name:\", input_video_name)\n",
        "print(\"Model Classes:\", model_classes)"
      ],
      "metadata": {
        "colab": {
          "base_uri": "https://localhost:8080/"
        },
        "id": "nOgi7YhCC8uY",
        "outputId": "ee1d36ca-2a34-4cca-c850-7d89d585d72d"
      },
      "execution_count": 39,
      "outputs": [
        {
          "output_type": "stream",
          "name": "stdout",
          "text": [
            "Input Video Name: CS201\n",
            "Model Classes: ['polyp', 'esophagael cancer']\n"
          ]
        }
      ]
    },
    {
      "cell_type": "code",
      "execution_count": 33,
      "metadata": {
        "id": "p7yMlKTVKBMM"
      },
      "outputs": [],
      "source": [
        "class Colors:\n",
        "    def __init__(self, num_colors=80):\n",
        "        self.num_colors = num_colors\n",
        "        self.color_palette = self.generate_color_palette()\n",
        "\n",
        "\n",
        "    def generate_color_palette(self):\n",
        "        hsv_palette = np.zeros((self.num_colors, 1, 3), dtype=np.uint8)\n",
        "        hsv_palette[:, 0, 0] = np.linspace(0, 180, self.num_colors, endpoint=False)\n",
        "        hsv_palette[:, :, 1:] = 255\n",
        "        bgr_palette = cv2.cvtColor(hsv_palette, cv2.COLOR_HSV2BGR)\n",
        "        return bgr_palette.reshape(-1, 3)\n",
        "\n",
        "    def __call__(self, class_id):\n",
        "        color = tuple(map(int, self.color_palette[class_id]))\n",
        "        return color"
      ]
    },
    {
      "cell_type": "code",
      "execution_count": 40,
      "metadata": {
        "id": "ziMNMc_TL1kk"
      },
      "outputs": [],
      "source": [
        "class ObjectDetection:\n",
        "    def __init__(self, model_weights=\"yolov8s.pt\", capture_index=0):\n",
        "        self.device = 'cuda' if torch.cuda.is_available() else 'cpu'\n",
        "        print(\"Using Device: \", self.device)\n",
        "        self.model = self.load_model(model_weights)\n",
        "        self.classes = self.model.names\n",
        "        #self.classes[0] = 'gastritis'\n",
        "        self.classes = model_classes\n",
        "        self.colors = Colors(len(self.classes))\n",
        "        self.font = cv2.FONT_HERSHEY_SIMPLEX\n",
        "        self.capture_index = capture_index\n",
        "        self.cap = self.load_capture()\n",
        "        reid_weights = Path(\"osnet_x0_25_msmt17.pt\")\n",
        "        self.tracker = StrongSORT(reid_weights,\n",
        "                                  torch.device(self.device),\n",
        "                                  fp16 = False,\n",
        "                                  )\n",
        "\n",
        "    def load_model(self, weights):\n",
        "        model = YOLO(weights)\n",
        "        model.fuse()\n",
        "        return model\n",
        "\n",
        "    def predict(self, frame):\n",
        "        results = self.model(frame, stream=True, verbose=False, conf=0.8, line_width=1)\n",
        "        return results\n",
        "\n",
        "    def draw_tracks(self, frame, tracks, txt_file, overlap_threshold=0.5):\n",
        "        for track in tracks:\n",
        "            x1, y1, x2, y2 = int(track[0]), int(track[1]), int(track[2]), int(track[3])\n",
        "            id = int(track[4])\n",
        "            conf = round(track[5], 2)\n",
        "            class_id = int(track[6])\n",
        "            class_name = self.classes[class_id]\n",
        "            cv2.rectangle(frame, (x1,y1), (x2, y2), self.colors(class_id), 2)\n",
        "            label = f'{class_name} {conf}' # hiển thị\n",
        "            (w, h), _ = cv2.getTextSize(label, cv2.FONT_HERSHEY_SIMPLEX, 1.5, 3)\n",
        "            cv2.rectangle(frame, (x1, y1-h-15), (x1+w, y1), self.colors(class_id), -1)\n",
        "            cv2.putText(frame, label, (x1,y1-10), cv2.FONT_HERSHEY_SIMPLEX, 1.5, (255,255,255) , 3)\n",
        "            # Ghi kết quả vào file txt\n",
        "            txt_file.write(f\"{int(self.cap.get(cv2.CAP_PROP_POS_FRAMES))}, {id}, {x1}, {y1}, {x2-x1}, {y2-y1}, {conf}, -1, -1, -1\\n\")\n",
        "\n",
        "        return frame\n",
        "\n",
        "\n",
        "    def load_capture(self):\n",
        "        cap = cv2.VideoCapture(self.capture_index)\n",
        "        assert cap.isOpened()\n",
        "        fps = cap.get(cv2.CAP_PROP_FPS)\n",
        "        width = int(cap.get(cv2.CAP_PROP_FRAME_WIDTH))\n",
        "        height = int(cap.get(cv2.CAP_PROP_FRAME_HEIGHT))\n",
        "        cap.set(cv2.CAP_PROP_FRAME_WIDTH, 1280)\n",
        "        cap.set(cv2.CAP_PROP_FRAME_HEIGHT, 720)\n",
        "        video_name = \"strongsort_\" + input_video_name + \".mp4\"\n",
        "        self.writer = cv2.VideoWriter(video_name, cv2.VideoWriter_fourcc(*'mp4v'), fps, (width, height))\n",
        "        return cap\n",
        "\n",
        "    def write_seqinfo_ini(self, seq_name, seq_length, frame_rate, im_width, im_height, im_ext, im_dir):\n",
        "        with open(\"seqinfo.ini\", \"w\") as f:\n",
        "            f.write(\"[Sequence]\\n\")\n",
        "            f.write(f\"name={seq_name}\\n\")\n",
        "            f.write(f\"imDir={im_dir}\\n\")  # Thay thế bằng thư mục chứa ảnh nếu cần\n",
        "            f.write(f\"frameRate={frame_rate}\\n\")\n",
        "            f.write(f\"seqLength={seq_length}\\n\")\n",
        "            f.write(f\"imWidth={im_width}\\n\")\n",
        "            f.write(f\"imHeight={im_height}\\n\")\n",
        "            f.write(f\"imExt={im_ext}\\n\")\n",
        "\n",
        "\n",
        "    def __call__(self):\n",
        "        tracker = self.tracker\n",
        "\n",
        "\n",
        "        # Lấy thông tin từ video kết quả\n",
        "        seq_name = \"StrongSort\"\n",
        "        im_dir=\"img1\"\n",
        "        seq_length = int(self.cap.get(cv2.CAP_PROP_FRAME_COUNT))\n",
        "        frame_rate = self.cap.get(cv2.CAP_PROP_FPS)\n",
        "        im_width = int(self.cap.get(cv2.CAP_PROP_FRAME_WIDTH))\n",
        "        im_height = int(self.cap.get(cv2.CAP_PROP_FRAME_HEIGHT))\n",
        "        im_ext = \".jpg\"  # Phần mở rộng của ảnh\n",
        "\n",
        "        # Ghi thông tin vào file seqinfo.ini\n",
        "        self.write_seqinfo_ini(seq_name, seq_length, frame_rate, im_width, im_height, im_ext, im_dir)\n",
        "\n",
        "        # Mở file txt để ghi kết quả\n",
        "        with open(\"results.txt\", \"w\") as txt_file:\n",
        "          while True:\n",
        "              start_time = perf_counter()\n",
        "              ret, frame = self.cap.read()\n",
        "              if not ret:\n",
        "                  break\n",
        "              cv2.rectangle(frame, (0,30), (220,80), (255,255,255),-1 )\n",
        "              detections = self.predict(frame)\n",
        "              for dets in detections:\n",
        "                  tracks = tracker.update(dets.boxes.data.to(\"cpu\").numpy(), frame)\n",
        "                  if len(tracks.shape) == 2 and tracks.shape[1] == 8:\n",
        "                      frame = self.draw_tracks(frame, tracks, txt_file)\n",
        "                  #print(tracks)\n",
        "              end_time = perf_counter()\n",
        "              fps = 1/np.round(end_time - start_time, 2)\n",
        "              cv2.putText(frame, f'FPS: {int(fps)}', (20,70), self.font, 1.5, (0,255,0), 5)\n",
        "              self.writer.write(frame)\n",
        "              #cv2_imshow(frame)\n",
        "              if cv2.waitKey(5) & 0xFF == 27:\n",
        "                  break\n",
        "          self.cap.release()\n",
        "          self.writer.release()\n",
        "          cv2.destroyAllWindows()"
      ]
    },
    {
      "cell_type": "code",
      "execution_count": null,
      "metadata": {
        "id": "7ENKE3IwKGnJ"
      },
      "outputs": [],
      "source": [
        "detector = ObjectDetection(model_weights, test_vid)\n",
        "detector()\n",
        "\n"
      ]
    },
    {
      "cell_type": "code",
      "execution_count": null,
      "metadata": {
        "id": "7ez42Zj7KLr2"
      },
      "outputs": [],
      "source": [
        "# test_vid = \"/content/BVK042.mp4\"\n",
        "# model_weights = \"/content/daday.pt\"\n",
        "# detector = ObjectDetection(model_weights, test_vid)\n",
        "# detector()"
      ]
    },
    {
      "cell_type": "code",
      "source": [
        "# Frame trước ổn định nhưng sau đó box gặp vấn đề: vấn đề 1 là đối tượng biến dạng mạnh nhưng box không track theo kịp; vấn đề 2 là có nhiều box track cùng 1 đối tượng duy nhất"
      ],
      "metadata": {
        "id": "tjusw8lVN3bd"
      },
      "execution_count": null,
      "outputs": []
    }
  ],
  "metadata": {
    "accelerator": "GPU",
    "colab": {
      "gpuType": "T4",
      "provenance": [],
      "include_colab_link": true
    },
    "kernelspec": {
      "display_name": "Python 3",
      "name": "python3"
    },
    "language_info": {
      "name": "python"
    }
  },
  "nbformat": 4,
  "nbformat_minor": 0
}